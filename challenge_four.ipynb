{
 "cells": [
  {
   "cell_type": "code",
   "execution_count": 23,
   "metadata": {},
   "outputs": [],
   "source": [
    "%matplotlib inline"
   ]
  },
  {
   "cell_type": "markdown",
   "metadata": {},
   "source": [
    "\n",
    "# Linear regression\n",
    "\n",
    "We are going to look at the relationship between age and\n",
    "minutes played. Start by watching the video a\n",
    "\n",
    "..  youtube:: TnOqoeVPnXE\n",
    "   :width: 640\n",
    "   :height: 349\n",
    "\n",
    "Either work through the code at the same time as watching or afterwards.\n"
   ]
  },
  {
   "cell_type": "code",
   "execution_count": 24,
   "metadata": {},
   "outputs": [],
   "source": [
    "#importing necessary libraries\n",
    "import pandas as pd\n",
    "import numpy as np\n",
    "import matplotlib.pyplot as plt\n",
    "import statsmodels.formula.api as smf"
   ]
  },
  {
   "cell_type": "markdown",
   "metadata": {},
   "source": [
    "## Opening data\n",
    "In this example we use data downloaded from [FBref](https://fbref.com/en/comps/12/2021-2022/stats/2021-2022-La-Liga-Stats) on players in La Liga.\n",
    "We just use the age and minutes played columns.\n",
    "And we only take the first 20 observations, to help visualise the process.\n",
    "Download [playerstats.csv](https://github.com/soccermatics/Soccermatics/blob/main/course/lessons/lesson2/playerstats.csv)\n",
    "your working directory.\n",
    "\n"
   ]
  },
  {
   "cell_type": "code",
   "execution_count": 25,
   "metadata": {},
   "outputs": [],
   "source": [
    "num_obs=20\n",
    "laliga_df=pd.read_csv(\"player_stats.csv\",delimiter=',')\n",
    "minutes_model = pd.DataFrame()\n",
    "minutes_model = minutes_model.assign(minutes=laliga_df['Min'][0:num_obs])\n",
    "minutes_model = minutes_model.assign(age=laliga_df['Age'][0:num_obs])\n",
    "\n",
    "# Make an age squared column so we can fit polynomial model.\n",
    "minutes_model = minutes_model.assign(age_squared=np.power(laliga_df['Age'][0:num_obs],2))"
   ]
  },
  {
   "cell_type": "markdown",
   "metadata": {},
   "source": [
    "## Plotting the data\n",
    "Start by plotting the data.\n",
    "\n"
   ]
  },
  {
   "cell_type": "code",
   "execution_count": 26,
   "metadata": {},
   "outputs": [
    {
     "data": {
      "image/png": "[encoded data removed]",
      "text/plain": [
       "<Figure size 432x288 with 1 Axes>"
      ]
     },
     "metadata": {
      "needs_background": "light"
     },
     "output_type": "display_data"
    }
   ],
   "source": [
    "fig,ax=plt.subplots(num=1)\n",
    "ax.plot(minutes_model['age'], minutes_model['minutes'], linestyle='none', marker= '.', markersize= 10, color='blue')\n",
    "ax.set_ylabel('Minutes played')\n",
    "ax.set_xlabel('Age')\n",
    "ax.spines['top'].set_visible(False)\n",
    "ax.spines['right'].set_visible(False)\n",
    "plt.xlim((15,40))\n",
    "plt.ylim((0,3000))\n",
    "plt.show()"
   ]
  },
  {
   "cell_type": "markdown",
   "metadata": {},
   "source": [
    "## Fitting the model\n",
    "We are going to begin by doing a  straight line linear regression\n",
    " .. math::\n",
    "\n",
    "    y = b_0 + b_1 x\n",
    "\n",
    "A straight line relationship between minutes played and age.\n",
    "\n"
   ]
  },
  {
   "cell_type": "code",
   "execution_count": 27,
   "metadata": {},
   "outputs": [
    {
     "name": "stdout",
     "output_type": "stream",
     "text": [
      "                            OLS Regression Results                            \n",
      "==============================================================================\n",
      "Dep. Variable:                minutes   R-squared:                       0.231\n",
      "Model:                            OLS   Adj. R-squared:                  0.189\n",
      "Method:                 Least Squares   F-statistic:                     5.415\n",
      "Date:                Mon, 14 Nov 2022   Prob (F-statistic):             0.0318\n",
      "Time:                        19:48:00   Log-Likelihood:                -163.24\n",
      "No. Observations:                  20   AIC:                             330.5\n",
      "Df Residuals:                      18   BIC:                             332.5\n",
      "Df Model:                           1                                         \n",
      "Covariance Type:            nonrobust                                         \n",
      "==============================================================================\n",
      "                 coef    std err          t      P>|t|      [0.025      0.975]\n",
      "------------------------------------------------------------------------------\n",
      "Intercept  -1293.0147   1152.158     -1.122      0.277   -3713.609    1127.580\n",
      "age          102.5404     44.065      2.327      0.032       9.963     195.118\n",
      "==============================================================================\n",
      "Omnibus:                        0.142   Durbin-Watson:                   2.001\n",
      "Prob(Omnibus):                  0.931   Jarque-Bera (JB):                0.316\n",
      "Skew:                          -0.153   Prob(JB):                        0.854\n",
      "Kurtosis:                       2.466   Cond. No.                         151.\n",
      "==============================================================================\n",
      "\n",
      "Notes:\n",
      "[1] Standard Errors assume that the covariance matrix of the errors is correctly specified.\n"
     ]
    }
   ],
   "source": [
    "model_fit=smf.ols(formula='minutes  ~ age   ', data=minutes_model).fit()\n",
    "print(model_fit.summary())        \n",
    "b=model_fit.params"
   ]
  },
  {
   "cell_type": "markdown",
   "metadata": {},
   "source": [
    "Comparing the fit \n",
    " ----------------------------\n",
    "We now use the fit to plot a line through the data.\n",
    " .. math::\n",
    "\n",
    "    y = b_0 + b_1 x\n",
    "\n",
    "where the parameters are estimated from the model fit.\n",
    "\n"
   ]
  },
  {
   "cell_type": "code",
   "execution_count": 28,
   "metadata": {},
   "outputs": [
    {
     "data": {
      "image/png": "[encoded data removed]",
      "text/plain": [
       "<Figure size 432x288 with 1 Axes>"
      ]
     },
     "metadata": {
      "needs_background": "light"
     },
     "output_type": "display_data"
    }
   ],
   "source": [
    "#First plot the data as previously\n",
    "fig,ax=plt.subplots(num=1)\n",
    "ax.plot(minutes_model['age'], minutes_model['minutes'], linestyle='none', marker= '.', markersize= 10, color='blue')\n",
    "ax.set_ylabel('Minutes played')\n",
    "ax.set_xlabel('Age')\n",
    "ax.spines['top'].set_visible(False)\n",
    "ax.spines['right'].set_visible(False)\n",
    "plt.xlim((15,40))\n",
    "plt.ylim((0,3000))\n",
    "\n",
    "#Now create the line through the data\n",
    "x=np.arange(40,step=1)\n",
    "y= np.mean(minutes_model['minutes'])*np.ones(40)\n",
    "ax.plot(x, y, color='black')\n",
    "\n",
    "#Show distances to line for each point\n",
    "for i,a in enumerate(minutes_model['age']):\n",
    "    ax.plot([a,a],[minutes_model['minutes'][i], np.mean(minutes_model['minutes']) ], color='red')\n",
    "plt.show()"
   ]
  },
  {
   "cell_type": "markdown",
   "metadata": {},
   "source": [
    "A model including squared terms\n",
    " ----------------------------\n",
    "We now fit the quadratic model\n",
    " .. math::\n",
    "\n",
    "    y = b_0 + b_1 x + b_2 x^2\n",
    "\n",
    "estimating the parameters from the data.\n",
    "\n"
   ]
  },
  {
   "cell_type": "code",
   "execution_count": 29,
   "metadata": {},
   "outputs": [
    {
     "name": "stdout",
     "output_type": "stream",
     "text": [
      "                            OLS Regression Results                            \n",
      "==============================================================================\n",
      "Dep. Variable:                minutes   R-squared:                       0.295\n",
      "Model:                            OLS   Adj. R-squared:                  0.212\n",
      "Method:                 Least Squares   F-statistic:                     3.559\n",
      "Date:                Mon, 14 Nov 2022   Prob (F-statistic):             0.0512\n",
      "Time:                        19:48:00   Log-Likelihood:                -162.38\n",
      "No. Observations:                  20   AIC:                             330.8\n",
      "Df Residuals:                      17   BIC:                             333.7\n",
      "Df Model:                           2                                         \n",
      "Covariance Type:            nonrobust                                         \n",
      "===============================================================================\n",
      "                  coef    std err          t      P>|t|      [0.025      0.975]\n",
      "-------------------------------------------------------------------------------\n",
      "Intercept   -8063.5823   5573.188     -1.447      0.166   -1.98e+04    3694.817\n",
      "age           634.7722    431.113      1.472      0.159    -274.796    1544.340\n",
      "age_squared   -10.1432      8.174     -1.241      0.232     -27.389       7.103\n",
      "==============================================================================\n",
      "Omnibus:                        1.800   Durbin-Watson:                   2.164\n",
      "Prob(Omnibus):                  0.407   Jarque-Bera (JB):                1.054\n",
      "Skew:                          -0.190   Prob(JB):                        0.590\n",
      "Kurtosis:                       1.942   Cond. No.                     2.06e+04\n",
      "==============================================================================\n",
      "\n",
      "Notes:\n",
      "[1] Standard Errors assume that the covariance matrix of the errors is correctly specified.\n",
      "[2] The condition number is large, 2.06e+04. This might indicate that there are\n",
      "strong multicollinearity or other numerical problems.\n"
     ]
    },
    {
     "data": {
      "image/png": "[encoded data removed]",
      "text/plain": [
       "<Figure size 432x288 with 1 Axes>"
      ]
     },
     "metadata": {
      "needs_background": "light"
     },
     "output_type": "display_data"
    }
   ],
   "source": [
    "# First fit the model\n",
    "model_fit=smf.ols(formula='minutes  ~ age + age_squared', data=minutes_model).fit()\n",
    "print(model_fit.summary())        \n",
    "b=model_fit.params\n",
    "\n",
    "# Compare the fit \n",
    "fig,ax=plt.subplots(num=1)\n",
    "ax.plot(minutes_model['age'], minutes_model['minutes'], linestyle='none', marker= '.', markersize= 10, color='blue')\n",
    "ax.set_ylabel('Minutes played')\n",
    "ax.set_xlabel('Age')\n",
    "ax.spines['top'].set_visible(False)\n",
    "ax.spines['right'].set_visible(False)\n",
    "plt.xlim((15,40))\n",
    "plt.ylim((0,3000))\n",
    "x=np.arange(40,step=1)\n",
    "y= b[0] + b[1]*x + b[2]*x*x\n",
    "ax.plot(x, y, color='black')\n",
    "\n",
    "for i,a in enumerate(minutes_model['age']):\n",
    "    ax.plot([a,a],[minutes_model['minutes'][i], b[0] + b[1]*a + b[2]*a*a], color='red')\n",
    "plt.show()"
   ]
  },
  {
   "cell_type": "markdown",
   "metadata": {},
   "source": [
    "## Now try with all data points\n",
    "1) Refit the model with all data points\n",
    "\n",
    "2) Try adding a cubic term\n",
    "\n",
    "3) Think about how well the model works. What are the limitations?\n",
    "\n"
   ]
  },
  {
   "cell_type": "code",
   "execution_count": 30,
   "metadata": {},
   "outputs": [],
   "source": [
    "laliga_df=pd.read_csv(\"player_stats.csv\",delimiter=',')\n",
    "minutes_model = pd.DataFrame()\n",
    "minutes_model = minutes_model.assign(minutes=laliga_df['Min'])\n",
    "minutes_model = minutes_model.assign(age=laliga_df['Age'])\n",
    "\n",
    "# Make an age cubed column so we can fit polynomial model.\n",
    "minutes_model = minutes_model.assign(age_cubed=np.power(laliga_df['Age'],3))"
   ]
  },
  {
   "cell_type": "code",
   "execution_count": 31,
   "metadata": {},
   "outputs": [
    {
     "data": {
      "image/png": "[encoded data removed]",
      "text/plain": [
       "<Figure size 432x288 with 1 Axes>"
      ]
     },
     "metadata": {
      "needs_background": "light"
     },
     "output_type": "display_data"
    }
   ],
   "source": [
    "fig,ax=plt.subplots(num=1)\n",
    "ax.plot(minutes_model['age'], minutes_model['minutes'], linestyle='none', marker= '.', markersize= 10, color='blue')\n",
    "ax.set_ylabel('Minutes played')\n",
    "ax.set_xlabel('Age')\n",
    "ax.spines['top'].set_visible(False)\n",
    "ax.spines['right'].set_visible(False)\n",
    "plt.xlim((15,50))\n",
    "plt.ylim((0,3500))\n",
    "plt.show()"
   ]
  },
  {
   "cell_type": "code",
   "execution_count": 32,
   "metadata": {},
   "outputs": [
    {
     "name": "stdout",
     "output_type": "stream",
     "text": [
      "                            OLS Regression Results                            \n",
      "==============================================================================\n",
      "Dep. Variable:                minutes   R-squared:                       0.107\n",
      "Model:                            OLS   Adj. R-squared:                  0.106\n",
      "Method:                 Least Squares   F-statistic:                     73.92\n",
      "Date:                Mon, 14 Nov 2022   Prob (F-statistic):           6.77e-17\n",
      "Time:                        19:48:01   Log-Likelihood:                -5070.1\n",
      "No. Observations:                 616   AIC:                         1.014e+04\n",
      "Df Residuals:                     614   BIC:                         1.015e+04\n",
      "Df Model:                           1                                         \n",
      "Covariance Type:            nonrobust                                         \n",
      "==============================================================================\n",
      "                 coef    std err          t      P>|t|      [0.025      0.975]\n",
      "------------------------------------------------------------------------------\n",
      "Intercept   -536.3642    207.420     -2.586      0.010    -943.702    -129.026\n",
      "age           67.6766      7.872      8.597      0.000      52.218      83.135\n",
      "==============================================================================\n",
      "Omnibus:                       52.017   Durbin-Watson:                   2.069\n",
      "Prob(Omnibus):                  0.000   Jarque-Bera (JB):               39.225\n",
      "Skew:                           0.518   Prob(JB):                     3.04e-09\n",
      "Kurtosis:                       2.326   Cond. No.                         149.\n",
      "==============================================================================\n",
      "\n",
      "Notes:\n",
      "[1] Standard Errors assume that the covariance matrix of the errors is correctly specified.\n"
     ]
    }
   ],
   "source": [
    "model_fit=smf.ols(formula='minutes  ~ age', data=minutes_model).fit()\n",
    "print(model_fit.summary())        \n",
    "b=model_fit.params"
   ]
  },
  {
   "cell_type": "markdown",
   "metadata": {},
   "source": [
    "#### Add a cubic term"
   ]
  },
  {
   "cell_type": "code",
   "execution_count": 33,
   "metadata": {},
   "outputs": [
    {
     "name": "stdout",
     "output_type": "stream",
     "text": [
      "                            OLS Regression Results                            \n",
      "==============================================================================\n",
      "Dep. Variable:                minutes   R-squared:                       0.142\n",
      "Model:                            OLS   Adj. R-squared:                  0.139\n",
      "Method:                 Least Squares   F-statistic:                     50.65\n",
      "Date:                Mon, 14 Nov 2022   Prob (F-statistic):           4.37e-21\n",
      "Time:                        19:48:01   Log-Likelihood:                -5058.0\n",
      "No. Observations:                 616   AIC:                         1.012e+04\n",
      "Df Residuals:                     613   BIC:                         1.014e+04\n",
      "Df Model:                           2                                         \n",
      "Covariance Type:            nonrobust                                         \n",
      "==============================================================================\n",
      "                 coef    std err          t      P>|t|      [0.025      0.975]\n",
      "------------------------------------------------------------------------------\n",
      "Intercept  -3588.5626    648.697     -5.532      0.000   -4862.500   -2314.625\n",
      "age          248.4617     37.291      6.663      0.000     175.227     321.696\n",
      "age_cubed     -0.0855      0.017     -4.955      0.000      -0.119      -0.052\n",
      "==============================================================================\n",
      "Omnibus:                       42.299   Durbin-Watson:                   2.033\n",
      "Prob(Omnibus):                  0.000   Jarque-Bera (JB):               31.260\n",
      "Skew:                           0.449   Prob(JB):                     1.63e-07\n",
      "Kurtosis:                       2.358   Cond. No.                     3.91e+05\n",
      "==============================================================================\n",
      "\n",
      "Notes:\n",
      "[1] Standard Errors assume that the covariance matrix of the errors is correctly specified.\n",
      "[2] The condition number is large, 3.91e+05. This might indicate that there are\n",
      "strong multicollinearity or other numerical problems.\n"
     ]
    }
   ],
   "source": [
    "#refit\n",
    "model_fit=smf.ols(formula='minutes  ~ age + age_cubed', data=minutes_model).fit()\n",
    "print(model_fit.summary())        \n",
    "b=model_fit.params"
   ]
  },
  {
   "cell_type": "markdown",
   "metadata": {},
   "source": [
    "#### Limitations"
   ]
  },
  {
   "cell_type": "markdown",
   "metadata": {},
   "source": [
    "Limitations of linear regression include:\n",
    "\n",
    "    Only looks at linear relationships between independent and dependent variable\n",
    "    \n",
    "    Only looks at mean of dependent variable\n",
    "    \n",
    "    Sensitive to outliers\n",
    "    \n",
    "    Data must be independent\n"
   ]
  },
  {
   "cell_type": "code",
   "execution_count": null,
   "metadata": {},
   "outputs": [],
   "source": []
  }
 ],
 "metadata": {
  "kernelspec": {
   "display_name": "Python 3 (ipykernel)",
   "language": "python",
   "name": "python3"
  },
  "language_info": {
   "codemirror_mode": {
    "name": "ipython",
    "version": 3
   },
   "file_extension": ".py",
   "mimetype": "text/x-python",
   "name": "python",
   "nbconvert_exporter": "python",
   "pygments_lexer": "ipython3",
   "version": "3.9.7"
  }
 },
 "nbformat": 4,
 "nbformat_minor": 1
}
